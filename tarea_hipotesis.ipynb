{
 "cells": [
  {
   "cell_type": "markdown",
   "metadata": {},
   "source": [
    "# Problemas de prueba de hipótesis\n",
    "## Ejercicio 1\n",
    "Usted es un nutricionista que investiga dos tipos diferentes de dietas para ver si existe una diferencia significativa en la pérdida de peso después de un mes. Eliges dos grupos aleatorios de personas; un grupo sigue la primera dieta y el otro sigue la segunda. Al final del mes, se registra la pérdida de peso (en kg) de cada persona:\n",
    "| **Diet 1** | **Diet 2 ** |\n",
    "|------------|-------------|\n",
    "| 2.0        | 3.0         |\n",
    "| 2.5        | 3.2         |\n",
    "| 3.0        | 3.1         |\n",
    "| 2.8        | 2.9         |\n",
    "| 2.3        | 2.8         |\n",
    "| 2.7        | 3.0         |\n",
    "| 2.5        | 3.2         |\n",
    "\n",
    "Con estos datos se busca responder a la siguiente pregunta: ¿Existe una diferencia significativa en la pérdida de peso promedio entre las personas que siguieron la primera dieta y las que siguieron la segunda dieta?\n",
    "\n",
    "Para sacar conclusiones, siga los siguientes puntos:\n",
    "\n",
    "-Enunciar la hipótesis: hipótesis nula y alternativa. <br>-Realizar la prueba para comprobar la hipótesis. Puede utilizar la prueba t de Student. <br>-Analizar las conclusiones."
   ]
  },
  {
   "cell_type": "markdown",
   "metadata": {},
   "source": [
    "**Las hipótesis:** <br>\n",
    "- **Hipótesis nula:** No hay diferencia en la pérdida de peso promedio entre las personas que siguieron la primera dieta y las que siguieron la segunda <br>\n",
    "- **Hipótesis alternativa:** Hay diferencia en la pérdida de peso entre las personas que siguiern la primera dienta y las que siguieron la segunda. "
   ]
  },
  {
   "cell_type": "markdown",
   "metadata": {},
   "source": [
    "# T-test"
   ]
  },
  {
   "cell_type": "code",
   "execution_count": 1,
   "metadata": {},
   "outputs": [
    {
     "name": "stdout",
     "output_type": "stream",
     "text": [
      "t-value: -3.5383407969933938\n",
      "p-value: 0.004083270191713912\n"
     ]
    }
   ],
   "source": [
    "import scipy.stats as stats\n",
    "\n",
    "diet_1 = [2.0, 2.5, 3.0, 2.8, 2.3, 2.7, 2.5]\n",
    "diet_2 = [3.0, 3.2, 3.1, 2.9, 2.8, 3.0, 3.2]\n",
    "\n",
    "# t-test\n",
    "t_value, p_value = stats.ttest_ind(diet_1, diet_2)\n",
    "\n",
    "print(f\"t-value: {t_value}\")\n",
    "print(f\"p-value: {p_value}\")"
   ]
  },
  {
   "cell_type": "markdown",
   "metadata": {},
   "source": [
    "# Conclusión\n",
    "Dado que el nivel de significacia es 5% (0.05) y obtuvimos un valor de 0.004, podemos rechazar la hipótesis nula y concluir que sí existen diferencias en la pérdida de peso de cada dieta. <br>\n",
    "Si p-value hubiera sido mayor entonces no existiría diferencia entre las dietas. "
   ]
  },
  {
   "cell_type": "markdown",
   "metadata": {},
   "source": [
    "# ANOVA\n",
    "**ANOVA** (Analysis of Variance - Análisis de variación) Es una técnica estadística utilizada para comparar las medidas de dos o más grupos. La idea detrás de ANOVA es descomponer la variabilidad total de los datos en dos componentes: variabilidad entre grupos y variabilidad dentro de los grupos: <br>\n",
    "\n",
    "**Variabilidad entre grupos:** Esta variabilidad se refiere a las diferencias entre las medias del grupo. Si esta variabilidad es considerablemente mayor que la variabilidad dentro del grupo, podría ser una indicación de que al menos una de las medias del grupo es diferente.<br>\n",
    "**Variabilidad dentro del grupo:** Esta variabilidad se refiere a la dispersión de los datos dentro de cada grupo. Si todos los grupos tienen una variabilidad similar, entonces cualquier diferencia notable en las medias de los grupos podría considerarse significativa.<br>\n",
    "Las hipótesis en **ANOVA** suelen incluir: <br>\n",
    "\n",
    "**Hipótesis nula** (H0): Las medias de todos los grupos son iguales.<br>\n",
    "**Hipótesis alternativa** (H1): Al menos una de las medias del grupo es diferente.<br><br>\n",
    "Si el resultado de la prueba ANOVA es significativo (por ejemplo, un valor p inferior a un umbral como 0,05), esto sugiere que al menos la media de un grupo es diferente.\n",
    "\n",
    "# Ejercicio 2\n",
    "Un agricultor decide probar tres tipos diferentes de fertilizantes para determinar si alguno es superior en términos de producción de maíz. El agricultor planta maíz en 15 parcelas idénticas y utiliza los tres fertilizantes (5 parcelas para cada tipo). Al final de la temporada mide el rendimiento de maíz (en kg) de cada parcela, con el siguiente resultado: <br>\n",
    "\n",
    "| Fertilizante 1 | Fertilizante 2 | Fertilizante 3  |\n",
    "|----------------|----------------|-----------------|\n",
    "| 20             | 22             | 24              |\n",
    "| 21             | 21             | 23              |\n",
    "| 20             | 23             | 22              |\n",
    "| 19             | 22             | 23              |\n",
    "| 20             | 21             | 24              |\n",
    "\n",
    "Con estos datos busca responder la siguiente pregunta: ¿Existe una diferencia significativa en el rendimiento promedio del maíz entre los tres tipos de fertilizantes? <br>\n",
    "\n",
    "Para ayudarte, sigue los siguientes puntos: <br>\n",
    "\n",
    "-Enunciar la hipótesis: hipótesis nula y alternativa. <br>-Realizar la prueba ANOVA.<br> -Analizar las conclusiones. <br>-Si un fertilizante es mejor que otro, ¿cómo podemos saberlo?"
   ]
  },
  {
   "cell_type": "markdown",
   "metadata": {},
   "source": [
    "**- Hipótesis Nula** Las medias de los tres grupos de fertilizantes son iguales. <br>\n",
    "**- Hipótesis Alternativa** La media de uno de los grupos de fertilizantas es diferente."
   ]
  },
  {
   "cell_type": "code",
   "execution_count": 2,
   "metadata": {},
   "outputs": [
    {
     "name": "stdout",
     "output_type": "stream",
     "text": [
      "f-value: 20.315789473684188\n",
      "p-value: 0.00014047824793190475\n"
     ]
    }
   ],
   "source": [
    "# ANOVA\n",
    "import scipy.stats as stats\n",
    "\n",
    "fertilizer_1 = [20, 21, 20, 19, 20]\n",
    "fertilizer_2 = [22, 21, 23, 22, 21]\n",
    "fertilizer_3 = [24, 23, 22, 23, 24]\n",
    "\n",
    "# ANOVA test\n",
    "f_value, p_value = stats.f_oneway(fertilizer_1, fertilizer_2, fertilizer_3)\n",
    "\n",
    "print(f\"f-value: {f_value}\")\n",
    "print(f\"p-value: {p_value}\")"
   ]
  },
  {
   "cell_type": "markdown",
   "metadata": {},
   "source": [
    "# Conclusión\n",
    "Dado que el p-value es menor a 0.05 (5%) podemos concluir que hay diferencia entre el promedio de al menos dos fertilizantes por lo que rechazamos la hipótesis nula. "
   ]
  },
  {
   "cell_type": "code",
   "execution_count": 4,
   "metadata": {},
   "outputs": [
    {
     "name": "stdout",
     "output_type": "stream",
     "text": [
      "Multiple Comparison of Means - Tukey HSD, FWER=0.05\n",
      "==================================================\n",
      "group1 group2 meandiff p-adj  lower  upper  reject\n",
      "--------------------------------------------------\n",
      "    F1     F2      1.8 0.0099 0.4572 3.1428   True\n",
      "    F1     F3      3.2 0.0001 1.8572 4.5428   True\n",
      "    F2     F3      1.4 0.0409 0.0572 2.7428   True\n",
      "--------------------------------------------------\n"
     ]
    }
   ],
   "source": [
    "# Qué fertilizante es mejor\n",
    "import numpy as np\n",
    "from statsmodels.stats.multicomp import pairwise_tukeyhsd\n",
    "\n",
    "data = np.concatenate([fertilizer_1, fertilizer_2, fertilizer_3])\n",
    "labels = [\"F1\"] * 5 + [\"F2\"] * 5 + [\"F3\"] * 5\n",
    "\n",
    "# Tukey test\n",
    "result = pairwise_tukeyhsd(data, labels, alpha = 0.05)\n",
    "print(result)"
   ]
  },
  {
   "cell_type": "markdown",
   "metadata": {},
   "source": [
    "# Conlcusión\n",
    "En esta tabla se hace la comparación de los grupos a detalle. El valor \"True\" en la columna \"reject\" indica que hay diferencia significativa entre las estadísticas de los dos grupos. El valor positivo de la columna \"meandiff\" indica que el grupo 2 tiene una media mayor por lo que podemos concluir que el **fertilizante número 3** da mejores resultados.  "
   ]
  }
 ],
 "metadata": {
  "kernelspec": {
   "display_name": ".venv",
   "language": "python",
   "name": "python3"
  },
  "language_info": {
   "codemirror_mode": {
    "name": "ipython",
    "version": 3
   },
   "file_extension": ".py",
   "mimetype": "text/x-python",
   "name": "python",
   "nbconvert_exporter": "python",
   "pygments_lexer": "ipython3",
   "version": "3.12.1"
  }
 },
 "nbformat": 4,
 "nbformat_minor": 2
}
