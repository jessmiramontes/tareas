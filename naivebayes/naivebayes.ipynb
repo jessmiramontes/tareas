{
 "cells": [
  {
   "cell_type": "markdown",
   "metadata": {},
   "source": [
    "## Sentiment analysis\n",
    "Naive Bayes models are very useful when we want to analyze sentiment, classify texts into topics or recommendations, as the characteristics of these challenges meet the theoretical and methodological assumptions of the model very well.\n",
    "\n",
    "In this project you will practice with a dataset to create a review classifier for the Google Play store."
   ]
  },
  {
   "cell_type": "code",
   "execution_count": 16,
   "metadata": {},
   "outputs": [],
   "source": [
    "# Step 0. Import libraries, custom modules and logging\n",
    "# Basics ---------------------------------------------------------------\n",
    "#import logging\n",
    "#import joblib\n",
    "# Data -----------------------------------------------------------------\n",
    "import pandas as pd\n",
    "import numpy as np\n",
    "# Graphics -------------------------------------------------------------\n",
    "import matplotlib.pyplot as plt\n",
    "import seaborn as sns\n",
    "# Machine learning -----------------------------------------------------\n",
    "from sklearn.model_selection import train_test_split\n",
    "from sklearn.tree import DecisionTreeClassifier\n",
    "from sklearn import tree\n",
    "from sklearn.naive_bayes import (\n",
    "                        GaussianNB,\n",
    "                        MultinomialNB,\n",
    "                        BernoulliNB\n",
    ")\n",
    "from sklearn.feature_extraction.text import CountVectorizer\n",
    "from sklearn.metrics import accuracy_score"
   ]
  },
  {
   "cell_type": "code",
   "execution_count": 2,
   "metadata": {},
   "outputs": [
    {
     "name": "stdout",
     "output_type": "stream",
     "text": [
      "<class 'pandas.core.frame.DataFrame'>\n",
      "RangeIndex: 891 entries, 0 to 890\n",
      "Data columns (total 3 columns):\n",
      " #   Column        Non-Null Count  Dtype \n",
      "---  ------        --------------  ----- \n",
      " 0   package_name  891 non-null    object\n",
      " 1   review        891 non-null    object\n",
      " 2   polarity      891 non-null    int64 \n",
      "dtypes: int64(1), object(2)\n",
      "memory usage: 21.0+ KB\n"
     ]
    }
   ],
   "source": [
    "# 1 Create data frame\n",
    "# 1.1 Read from source and get basic info\n",
    "df_raw = pd.read_csv('https://raw.githubusercontent.com/4GeeksAcademy/naive-bayes-project-tutorial/main/playstore_reviews.csv')\n",
    "df_raw.info()"
   ]
  },
  {
   "cell_type": "code",
   "execution_count": 3,
   "metadata": {},
   "outputs": [
    {
     "data": {
      "text/html": [
       "<div>\n",
       "<style scoped>\n",
       "    .dataframe tbody tr th:only-of-type {\n",
       "        vertical-align: middle;\n",
       "    }\n",
       "\n",
       "    .dataframe tbody tr th {\n",
       "        vertical-align: top;\n",
       "    }\n",
       "\n",
       "    .dataframe thead th {\n",
       "        text-align: right;\n",
       "    }\n",
       "</style>\n",
       "<table border=\"1\" class=\"dataframe\">\n",
       "  <thead>\n",
       "    <tr style=\"text-align: right;\">\n",
       "      <th></th>\n",
       "      <th>package_name</th>\n",
       "      <th>review</th>\n",
       "      <th>polarity</th>\n",
       "    </tr>\n",
       "  </thead>\n",
       "  <tbody>\n",
       "    <tr>\n",
       "      <th>456</th>\n",
       "      <td>com.whatsapp</td>\n",
       "      <td>great app but... i heard that apple added som...</td>\n",
       "      <td>1</td>\n",
       "    </tr>\n",
       "    <tr>\n",
       "      <th>843</th>\n",
       "      <td>com.hamropatro</td>\n",
       "      <td>superb! all in one!</td>\n",
       "      <td>1</td>\n",
       "    </tr>\n",
       "    <tr>\n",
       "      <th>187</th>\n",
       "      <td>com.imangi.templerun2</td>\n",
       "      <td>good game but... i have always liked temple r...</td>\n",
       "      <td>0</td>\n",
       "    </tr>\n",
       "    <tr>\n",
       "      <th>351</th>\n",
       "      <td>com.viber.voip</td>\n",
       "      <td>so far nice and useful but... please, introdu...</td>\n",
       "      <td>1</td>\n",
       "    </tr>\n",
       "    <tr>\n",
       "      <th>318</th>\n",
       "      <td>com.viber.voip</td>\n",
       "      <td>good job but.... please reduce its size. runn...</td>\n",
       "      <td>0</td>\n",
       "    </tr>\n",
       "    <tr>\n",
       "      <th>492</th>\n",
       "      <td>com.Slack</td>\n",
       "      <td>excellent this app is great, keep up the good...</td>\n",
       "      <td>1</td>\n",
       "    </tr>\n",
       "    <tr>\n",
       "      <th>217</th>\n",
       "      <td>com.supercell.clashofclans</td>\n",
       "      <td>it was epic....then a certain update happened...</td>\n",
       "      <td>0</td>\n",
       "    </tr>\n",
       "    <tr>\n",
       "      <th>671</th>\n",
       "      <td>com.hamrokeyboard</td>\n",
       "      <td>white theme please ŕ¤žŕ¤˛ŕ¤žŕ¤ ŕ¤żŕľ app ŕ¤...</td>\n",
       "      <td>0</td>\n",
       "    </tr>\n",
       "    <tr>\n",
       "      <th>310</th>\n",
       "      <td>com.tencent.mm</td>\n",
       "      <td>want to know why did the other people i can s...</td>\n",
       "      <td>0</td>\n",
       "    </tr>\n",
       "    <tr>\n",
       "      <th>783</th>\n",
       "      <td>org.mozilla.firefox</td>\n",
       "      <td>all you need, easy and gives you control open...</td>\n",
       "      <td>0</td>\n",
       "    </tr>\n",
       "  </tbody>\n",
       "</table>\n",
       "</div>"
      ],
      "text/plain": [
       "                   package_name  \\\n",
       "456                com.whatsapp   \n",
       "843              com.hamropatro   \n",
       "187       com.imangi.templerun2   \n",
       "351              com.viber.voip   \n",
       "318              com.viber.voip   \n",
       "492                   com.Slack   \n",
       "217  com.supercell.clashofclans   \n",
       "671           com.hamrokeyboard   \n",
       "310              com.tencent.mm   \n",
       "783         org.mozilla.firefox   \n",
       "\n",
       "                                                review  polarity  \n",
       "456   great app but... i heard that apple added som...         1  \n",
       "843                                superb! all in one!         1  \n",
       "187   good game but... i have always liked temple r...         0  \n",
       "351   so far nice and useful but... please, introdu...         1  \n",
       "318   good job but.... please reduce its size. runn...         0  \n",
       "492   excellent this app is great, keep up the good...         1  \n",
       "217   it was epic....then a certain update happened...         0  \n",
       "671   white theme please ŕ¤žŕ¤˛ŕ¤žŕ¤ ŕ¤żŕľ app ŕ¤...         0  \n",
       "310   want to know why did the other people i can s...         0  \n",
       "783   all you need, easy and gives you control open...         0  "
      ]
     },
     "execution_count": 3,
     "metadata": {},
     "output_type": "execute_result"
    }
   ],
   "source": [
    "df_raw.sample(10)"
   ]
  },
  {
   "cell_type": "code",
   "execution_count": null,
   "metadata": {},
   "outputs": [
    {
     "name": "stdout",
     "output_type": "stream",
     "text": [
      "<class 'pandas.core.frame.DataFrame'>\n",
      "RangeIndex: 891 entries, 0 to 890\n",
      "Data columns (total 2 columns):\n",
      " #   Column    Non-Null Count  Dtype \n",
      "---  ------    --------------  ----- \n",
      " 0   review    891 non-null    object\n",
      " 1   polarity  891 non-null    int64 \n",
      "dtypes: int64(1), object(1)\n",
      "memory usage: 14.1+ KB\n"
     ]
    }
   ],
   "source": [
    "# 1.2 Process Data \n",
    "df_interim = (\n",
    "    df_raw\n",
    "    .copy()\n",
    "    .drop([\"package_name\"], axis=1)\n",
    "    )\n",
    "df_interim.info()"
   ]
  },
  {
   "cell_type": "code",
   "execution_count": 11,
   "metadata": {},
   "outputs": [
    {
     "data": {
      "text/html": [
       "<div>\n",
       "<style scoped>\n",
       "    .dataframe tbody tr th:only-of-type {\n",
       "        vertical-align: middle;\n",
       "    }\n",
       "\n",
       "    .dataframe tbody tr th {\n",
       "        vertical-align: top;\n",
       "    }\n",
       "\n",
       "    .dataframe thead th {\n",
       "        text-align: right;\n",
       "    }\n",
       "</style>\n",
       "<table border=\"1\" class=\"dataframe\">\n",
       "  <thead>\n",
       "    <tr style=\"text-align: right;\">\n",
       "      <th></th>\n",
       "      <th>review</th>\n",
       "      <th>polarity</th>\n",
       "    </tr>\n",
       "  </thead>\n",
       "  <tbody>\n",
       "    <tr>\n",
       "      <th>57</th>\n",
       "      <td>why is there so much space? there is so much w...</td>\n",
       "      <td>0</td>\n",
       "    </tr>\n",
       "    <tr>\n",
       "      <th>668</th>\n",
       "      <td>very good application ever dharai ramro app ho...</td>\n",
       "      <td>1</td>\n",
       "    </tr>\n",
       "    <tr>\n",
       "      <th>697</th>\n",
       "      <td>its really lovely apps . i am allready using a...</td>\n",
       "      <td>1</td>\n",
       "    </tr>\n",
       "    <tr>\n",
       "      <th>21</th>\n",
       "      <td>keeps updating updates all the time, slows my ...</td>\n",
       "      <td>0</td>\n",
       "    </tr>\n",
       "    <tr>\n",
       "      <th>451</th>\n",
       "      <td>its really good but.. not everyone in your add...</td>\n",
       "      <td>1</td>\n",
       "    </tr>\n",
       "    <tr>\n",
       "      <th>698</th>\n",
       "      <td>almost every time i scroll on a webpage, the c...</td>\n",
       "      <td>1</td>\n",
       "    </tr>\n",
       "    <tr>\n",
       "      <th>742</th>\n",
       "      <td>takes longer time plz make d newspaper downloa...</td>\n",
       "      <td>0</td>\n",
       "    </tr>\n",
       "    <tr>\n",
       "      <th>581</th>\n",
       "      <td>very useful i haven't used it as much as i cou...</td>\n",
       "      <td>1</td>\n",
       "    </tr>\n",
       "    <tr>\n",
       "      <th>866</th>\n",
       "      <td>great game, too much ads angry birds is fun an...</td>\n",
       "      <td>1</td>\n",
       "    </tr>\n",
       "    <tr>\n",
       "      <th>739</th>\n",
       "      <td>error and only error i think this is the worst...</td>\n",
       "      <td>0</td>\n",
       "    </tr>\n",
       "  </tbody>\n",
       "</table>\n",
       "</div>"
      ],
      "text/plain": [
       "                                                review  polarity\n",
       "57   why is there so much space? there is so much w...         0\n",
       "668  very good application ever dharai ramro app ho...         1\n",
       "697  its really lovely apps . i am allready using a...         1\n",
       "21   keeps updating updates all the time, slows my ...         0\n",
       "451  its really good but.. not everyone in your add...         1\n",
       "698  almost every time i scroll on a webpage, the c...         1\n",
       "742  takes longer time plz make d newspaper downloa...         0\n",
       "581  very useful i haven't used it as much as i cou...         1\n",
       "866  great game, too much ads angry birds is fun an...         1\n",
       "739  error and only error i think this is the worst...         0"
      ]
     },
     "execution_count": 11,
     "metadata": {},
     "output_type": "execute_result"
    }
   ],
   "source": [
    "df_interim[\"review\"] = df_interim[\"review\"].str.strip().str.lower()\n",
    "df_interim.sample(10)"
   ]
  },
  {
   "cell_type": "code",
   "execution_count": 12,
   "metadata": {},
   "outputs": [],
   "source": [
    "df = df_interim.copy()"
   ]
  },
  {
   "cell_type": "code",
   "execution_count": null,
   "metadata": {},
   "outputs": [
    {
     "name": "stdout",
     "output_type": "stream",
     "text": [
      "<class 'pandas.core.frame.DataFrame'>\n",
      "Index: 712 entries, 19 to 0\n",
      "Data columns (total 2 columns):\n",
      " #   Column    Non-Null Count  Dtype \n",
      "---  ------    --------------  ----- \n",
      " 0   review    712 non-null    object\n",
      " 1   polarity  712 non-null    int64 \n",
      "dtypes: int64(1), object(1)\n",
      "memory usage: 16.7+ KB\n"
     ]
    }
   ],
   "source": [
    "# Step 2. Split the dataset\n",
    "\n",
    "df_train, df_test = train_test_split(df, \n",
    "                                     random_state=2024, \n",
    "                                     test_size=0.2)\n",
    "df_train = df_train.reset_index(drop=True).sort_values(by='polarity')\n",
    "df_train.info()"
   ]
  },
  {
   "cell_type": "code",
   "execution_count": 14,
   "metadata": {},
   "outputs": [],
   "source": [
    "X_train = df_train.reset_index(drop=True).drop('polarity', axis=1)\n",
    "y_train = df_train['polarity'].reset_index(drop=True)\n",
    "X_test = df_test.reset_index(drop=True).drop('polarity', axis=1)\n",
    "y_test = df_test['polarity'].reset_index(drop=True)"
   ]
  },
  {
   "cell_type": "code",
   "execution_count": 17,
   "metadata": {},
   "outputs": [],
   "source": [
    "# 2.1 Transform the text into a word count matrix. \n",
    "vec_model = CountVectorizer(stop_words = \"english\")\n",
    "X_train = vec_model.fit_transform(X_train).toarray()\n",
    "X_test = vec_model.transform(X_test).toarray()"
   ]
  },
  {
   "cell_type": "code",
   "execution_count": null,
   "metadata": {},
   "outputs": [],
   "source": [
    "# Gaussian Naive Bayes Model"
   ]
  }
 ],
 "metadata": {
  "kernelspec": {
   "display_name": ".venv",
   "language": "python",
   "name": "python3"
  },
  "language_info": {
   "codemirror_mode": {
    "name": "ipython",
    "version": 3
   },
   "file_extension": ".py",
   "mimetype": "text/x-python",
   "name": "python",
   "nbconvert_exporter": "python",
   "pygments_lexer": "ipython3",
   "version": "3.12.1"
  }
 },
 "nbformat": 4,
 "nbformat_minor": 2
}
