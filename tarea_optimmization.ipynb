{
 "cells": [
  {
   "cell_type": "markdown",
   "metadata": {},
   "source": [
    "# Optimization of Algorithms problems\n",
    "## Exercise 1\n",
    "### Code Optimization for Text Processing\n",
    "You are provided with a text processing code to perform the following operations: <br>\n",
    "\n",
    "1. Convert all text to lowercase.\n",
    "2. Remove punctuation marks.\n",
    "3. Count the frequency of each word.\n",
    "4. Show the 5 most common words. \n",
    "\n",
    "\n",
    "The code works, but it is inefficient and can be optimized. Your task is to identify areas that can be improved and rewrite those parts to make the code more efficient and readable."
   ]
  },
  {
   "cell_type": "code",
   "execution_count": 22,
   "metadata": {},
   "outputs": [
    {
     "name": "stdout",
     "output_type": "stream",
     "text": [
      "word\n",
      "the    5\n",
      "of     3\n",
      "in     2\n",
      "a      2\n",
      "her    2\n",
      "Name: count, dtype: int64\n"
     ]
    }
   ],
   "source": [
    "import string\n",
    "import re\n",
    "import pandas as pd\n",
    "\n",
    "def process_text_lowercase(text):\n",
    "    # Text to lowercase\n",
    "    text = text.lower()\n",
    "    return text\n",
    "\n",
    "def process_text_remove_symbols(text):\n",
    "\n",
    "    # Remove punctuation\n",
    "    if text is not None:\n",
    "        text = re.sub(r'''[.,?*&'\"+${}-]''','',text) # Sub sustituir \n",
    "        return text\n",
    "    else: \n",
    "        return None\n",
    "\n",
    "def process_text_word_split(text):\n",
    "       \n",
    "    # Split text into words\n",
    "    words = text.split()\n",
    "    return words\n",
    "\n",
    "def process_text_top5(words_list):\n",
    "    df_words = pd.DataFrame(words_list, columns=['word'])  \n",
    "    top_5_words = df_words['word'].value_counts().head(5)\n",
    "    print(top_5_words)\n",
    "\n",
    "text = \"\"\"\n",
    "    In the heart of the city, Emily discovered a quaint little café, hidden away from the bustling streets. \n",
    "    The aroma of freshly baked pastries wafted through the air, drawing in passersby. As she sipped on her latte, \n",
    "    she noticed an old bookshelf filled with classics, creating a cozy atmosphere that made her lose track of time.\n",
    "\"\"\"\n",
    "\n",
    "processed_text = process_text_lowercase(text)\n",
    "processed_text = process_text_remove_symbols(processed_text)\n",
    "words_split = process_text_word_split(processed_text)\n",
    "process_text_top5(words_split)\n",
    "\n"
   ]
  },
  {
   "cell_type": "markdown",
   "metadata": {},
   "source": [
    "# Ejercicio 2\n",
    "## Optimización de código para procesamiento de listas\n",
    "Se te ha dado el siguiente código que realiza operaciones en una lista de números para:\n",
    "\n",
    "1. Filtrar los números pares.\n",
    "2. Duplicar cada número.\n",
    "3. Sumar todos los números.\n",
    "4. Verificar si el resultado es un número primo.\n",
    "\n",
    "\n",
    "El código entregado logra los objetivos, pero puede ser ineficiente. Tu tarea es identificar y mejorar las partes de ese código para mejorar su eficiencia."
   ]
  },
  {
   "cell_type": "code",
   "execution_count": 23,
   "metadata": {},
   "outputs": [
    {
     "name": "stdout",
     "output_type": "stream",
     "text": [
      "Result: 60, ¿Prime? No\n"
     ]
    }
   ],
   "source": [
    "import math\n",
    "\n",
    "def is_prime(n):\n",
    "    if n <= 1:\n",
    "        return False\n",
    "    for i in range(2, int(math.sqrt(n)) + 1):\n",
    "        if n % i == 0:\n",
    "            return False\n",
    "    return True\n",
    "\n",
    "def process_list(list_):\n",
    "    filtered_list = []\n",
    "    for num in list_:\n",
    "        if num % 2 == 0:\n",
    "            filtered_list.append(num)\n",
    "    \n",
    "    duplicate_list = []\n",
    "    for num in filtered_list:\n",
    "        duplicate_list.append(num * 2)\n",
    "        \n",
    "    sum = 0\n",
    "    for num in duplicate_list:\n",
    "        sum += num\n",
    "\n",
    "    prime = is_prime(sum)\n",
    "    \n",
    "    return sum, prime\n",
    "\n",
    "list_ = [1, 2, 3, 4, 5, 6, 7, 8, 9, 10]\n",
    "result, result_prime = process_list(list_)\n",
    "print(f\"Result: {result}, ¿Prime? {'Yes' if result_prime else 'No'}\")"
   ]
  },
  {
   "cell_type": "code",
   "execution_count": 24,
   "metadata": {},
   "outputs": [
    {
     "name": "stdout",
     "output_type": "stream",
     "text": [
      "Result: 60, ¿Prime? No\n"
     ]
    }
   ],
   "source": [
    "# Código Optimizado\n",
    "import math\n",
    "\n",
    "def process_numbers(numbers):\n",
    "    duplicate_even_numbers = [num for num in numbers if num % 2 == 0] * 2\n",
    "    total_sum = sum(duplicate_even_numbers)\n",
    "    return total_sum\n",
    "\n",
    "\n",
    "def is_prime(n):\n",
    "    if n <= 1:\n",
    "        return False\n",
    "    for i in range(2, int(math.sqrt(n)) + 1):\n",
    "        if n % i == 0:\n",
    "            return False\n",
    "    return True\n",
    "\n",
    "\n",
    "list_ = [1, 2, 3, 4, 5, 6, 7, 8, 9, 10]\n",
    "result = process_numbers(list_)\n",
    "result_prime = is_prime(result)\n",
    "print(f\"Result: {result}, ¿Prime? {'Yes' if result_prime else 'No'}\")"
   ]
  }
 ],
 "metadata": {
  "kernelspec": {
   "display_name": ".venv",
   "language": "python",
   "name": "python3"
  },
  "language_info": {
   "codemirror_mode": {
    "name": "ipython",
    "version": 3
   },
   "file_extension": ".py",
   "mimetype": "text/x-python",
   "name": "python",
   "nbconvert_exporter": "python",
   "pygments_lexer": "ipython3",
   "version": "3.12.1"
  }
 },
 "nbformat": 4,
 "nbformat_minor": 2
}
