{
 "cells": [
  {
   "cell_type": "markdown",
   "metadata": {},
   "source": [
    "**Exercise 1**\n",
    "\n",
    "We will use NumPy to obtain information to describe statistically. <br>\n",
    "\n",
    "- Generate an array of 100 elements following a normal distribution. <br>\n",
    "- Generate an array of 100 elements following a chi-square distribution with 3 degrees of freedom.<br>\n",
    "- Calculate the main metrics and statistical measures that best describe the two vectors."
   ]
  },
  {
   "cell_type": "code",
   "execution_count": 1,
   "metadata": {},
   "outputs": [],
   "source": [
    "import pandas as pd\n",
    "import numpy as np\n",
    "import statistics as stats\n",
    "from scipy.stats import skew\n",
    "from scipy.stats import kurtosis\n"
   ]
  },
  {
   "cell_type": "code",
   "execution_count": 2,
   "metadata": {},
   "outputs": [
    {
     "name": "stdout",
     "output_type": "stream",
     "text": [
      "[ 0.58350617 -1.74024538 -0.38087725  0.1489891  -0.44241857 -0.53276968\n",
      " -0.08124847 -1.68947862  0.84052536 -0.66041291 -0.3889998   1.03068858\n",
      "  0.41221433  0.54399834  1.23112321 -1.34471515 -0.27856526  2.15116653\n",
      "  0.31543166  0.56891532 -0.60146155 -0.70579596 -1.00236853 -0.47930499\n",
      "  1.54640114  0.18087333 -0.2936413  -0.33989036  0.44272579  0.5141537\n",
      "  0.58242888  0.5500328   0.38946635  0.18910289 -0.08426367  2.0892518\n",
      "  1.2845932  -0.20993817 -0.74425013  0.48035764 -1.09372452  0.84345342\n",
      " -1.61881071  1.14745    -0.93608872  0.00538287  0.73794988  0.14187918\n",
      " -1.47031924  0.63671237 -0.90645573 -1.03063682  1.29435672 -1.64235889\n",
      " -1.42321403  0.40067431  0.22537329 -0.40920994 -0.46811742  1.32419586\n",
      "  1.0163443   0.04379414  0.82710024  0.30627272  0.53708035  0.92410989\n",
      " -0.29310617  0.11032264  0.85113857 -0.67825173  0.15494411  0.79771742\n",
      " -1.14151376 -0.928164   -1.37502467  0.10245038  0.99896444 -0.32017215\n",
      "  1.80269947 -0.02946721  1.07830726  1.98628621 -0.18517772 -0.89990709\n",
      "  0.35605773 -0.8412261   0.50814757  0.68422066  0.96754658  1.05652555\n",
      " -0.42841617 -0.00612163  0.09929089 -0.89143171  1.05384474 -1.81839627\n",
      "  1.02156397 -0.63813741  1.48890118 -0.55160941]\n"
     ]
    }
   ],
   "source": [
    "# Arreglo con 100 elementos y distribución normal\n",
    "array_normal_dist = np.random.normal(loc=0, scale=1, size=100)\n",
    "print(array_normal_dist)"
   ]
  },
  {
   "cell_type": "code",
   "execution_count": 3,
   "metadata": {},
   "outputs": [
    {
     "name": "stdout",
     "output_type": "stream",
     "text": [
      "[ 3.7223288   6.32691055  1.33807954  3.32250451  1.47590119  1.6047176\n",
      "  6.63132859  3.61795574  0.94532921  3.95006179  0.39004701  1.32023847\n",
      "  3.34944374  3.98535399  3.4729242   5.77022642  2.61276419 12.23855967\n",
      "  4.44677165  5.21194685  0.54734129  2.14931004  2.88087581  1.64430402\n",
      " 10.04576724  4.72928396  8.75910192  1.78040989  2.56175518  3.30756091\n",
      "  3.9022779   5.27671839  5.35269587  2.29505485 11.9852624   2.09350833\n",
      "  0.49787469  0.894521    0.15284396  2.41955856  2.37974215  7.20452216\n",
      "  3.44402419  1.55285091  0.92092891  1.7914157   0.57853535  0.21821754\n",
      "  2.19916509  0.28855861  2.54495221  0.46468164  8.51798941  3.28417946\n",
      "  1.97213673  1.35493373  0.5886615  11.05436587  2.39387004  4.74720384\n",
      "  2.68678201  2.42073039  2.14080634  0.59578042  0.46313805  3.30047518\n",
      "  1.0908724   9.69342103  2.36781861  1.39071254  1.87201175  2.84366903\n",
      "  1.53060218  2.04927664  3.84734865  0.92541638  1.40206827  3.28324238\n",
      "  1.65356614  1.03573797  2.60284568  0.88447613  0.06322284  2.00896204\n",
      "  3.65749042  3.31246867  0.19269366  1.30911576  0.4854977   2.17062227\n",
      "  2.22930018  1.92897282  2.981076    2.3193917   2.90982716  2.01766968\n",
      "  2.23328682  2.79226606  1.51615617  2.34026808]\n"
     ]
    }
   ],
   "source": [
    "# Arreglo de 100 elementos con distribución chi-qui y 3 grados de libertad\n",
    "array_chi_square_dist = np.random.chisquare(df=3, size=100)\n",
    "print(array_chi_square_dist)\n"
   ]
  },
  {
   "cell_type": "code",
   "execution_count": 10,
   "metadata": {},
   "outputs": [
    {
     "name": "stdout",
     "output_type": "stream",
     "text": [
      "Media Normal Distribution: 0.0758130009318424\n",
      "Media Chi Distribution: 2.930594411997425\n",
      "Median Normal Distribution: 0.12610090661709378\n",
      "Median Chi Distribution: 2.307223277263522\n",
      "Mode Normal Distribution: 0.5835061666224074\n",
      "Mode Chi Distribution: 3.7223288037620943\n",
      "Range Normal Distribution: 3.9695628013131814\n",
      "Range Chi Distribution: 12.17533683074031\n",
      "Variance Normal Distribution: 0.8402126806200474\n",
      "Variance Chi Distribution: 6.477480365753238\n",
      "Standard Deviation Normal Distribution: 0.9166311584383586\n",
      "Standard Deviation Chi Distribution: 2.5450894612475294\n",
      "Skewness Normal Distribution: -0.026631384841336928\n",
      "Skewness Deviation Chi Distribution: 1.8706936196287325\n",
      "Kurtosis Normal Distribution: -0.5383502226790688\n",
      "Kurtosis Deviation Chi Distribution: 3.562217868247318\n"
     ]
    }
   ],
   "source": [
    "# Calculas las métricas para los dos vectores\n",
    "mean_normal = stats.mean(array_normal_dist)\n",
    "mean_chi = stats.mean(array_chi_square_dist)\n",
    "median_normal = stats.median(array_normal_dist)\n",
    "median_chi = stats.median(array_chi_square_dist)\n",
    "mode_normal = stats.mode(array_normal_dist)\n",
    "mode_chi = stats.mode(array_chi_square_dist)\n",
    "range_normal = max(array_normal_dist) - min(array_normal_dist)\n",
    "range_chi = max(array_chi_square_dist) - min(array_chi_square_dist) \n",
    "variance_normal = stats.variance(array_normal_dist)\n",
    "variance_chi = stats.variance(array_chi_square_dist)\n",
    "std_normal = stats.stdev(array_normal_dist)\n",
    "std_chi = stats.stdev(array_chi_square_dist)\n",
    "skewness_normal = skew(array_normal_dist)\n",
    "skewness_chi = skew(array_chi_square_dist)\n",
    "kurt_normal = kurtosis(array_normal_dist)\n",
    "kurt_chi = kurtosis(array_chi_square_dist)\n",
    "\n",
    "print(f\"Media Normal Distribution: {mean_normal}\")\n",
    "print(f\"Media Chi Distribution: {mean_chi}\")\n",
    "print(f\"Median Normal Distribution: {median_normal}\")\n",
    "print(f\"Median Chi Distribution: {median_chi}\")\n",
    "print(f\"Mode Normal Distribution: {mode_normal}\")\n",
    "print(f\"Mode Chi Distribution: {mode_chi}\")\n",
    "print(f\"Range Normal Distribution: {range_normal}\")\n",
    "print(f\"Range Chi Distribution: {range_chi}\")\n",
    "print(f\"Variance Normal Distribution: {variance_normal}\")\n",
    "print(f\"Variance Chi Distribution: {variance_chi}\")\n",
    "print(f\"Standard Deviation Normal Distribution: {std_normal}\")\n",
    "print(f\"Standard Deviation Chi Distribution: {std_chi}\")\n",
    "print(f\"Skewness Normal Distribution: {skewness_normal}\")\n",
    "print(f\"Skewness Deviation Chi Distribution: {skewness_chi}\")\n",
    "print(f\"Kurtosis Normal Distribution: {kurt_normal}\")\n",
    "print(f\"Kurtosis Deviation Chi Distribution: {kurt_chi}\")"
   ]
  },
  {
   "cell_type": "markdown",
   "metadata": {},
   "source": [
    "**Exercise 2**\n",
    "Write a Python program to calculate the standard deviation of the following data:\n",
    "\n",
    "data = [4, 2, 5, 8, 6]"
   ]
  },
  {
   "cell_type": "code",
   "execution_count": 11,
   "metadata": {},
   "outputs": [
    {
     "name": "stdout",
     "output_type": "stream",
     "text": [
      "Standard Deviation: 2.23606797749979\n"
     ]
    }
   ],
   "source": [
    "#Solución\n",
    "data = [4,2,5,8,6]\n",
    "std = stats.stdev(data)\n",
    "print(f\"Standard Deviation: {std}\")\n"
   ]
  }
 ],
 "metadata": {
  "kernelspec": {
   "display_name": ".venv",
   "language": "python",
   "name": "python3"
  },
  "language_info": {
   "codemirror_mode": {
    "name": "ipython",
    "version": 3
   },
   "file_extension": ".py",
   "mimetype": "text/x-python",
   "name": "python",
   "nbconvert_exporter": "python",
   "pygments_lexer": "ipython3",
   "version": "3.12.1"
  }
 },
 "nbformat": 4,
 "nbformat_minor": 2
}
