{
 "cells": [
  {
   "cell_type": "code",
   "execution_count": 4,
   "metadata": {},
   "outputs": [],
   "source": [
    "import pandas as pd\n",
    "import numpy as np\n",
    "import random"
   ]
  },
  {
   "cell_type": "markdown",
   "metadata": {},
   "source": [
    "## Ejercicio 1 \n",
    "\n",
    "Dos dados se lanzan una vez y se observa el total obtenido. Usa una simulación para encontrar la probabilidad estimada de que la puntuación sea mayor a 7 o un número par. Una simulación es una repetición del mismo experimento multiples veces para observar su comportamiento:\n",
    "\n",
    "- Ejecuta el experimento 1000 veces (lanza 2 dados 1000 veces, y suma el número de ambos dados).\n",
    "- Lleva ua cuenta de los números y las veces que la suma fue mayor a 7 o un número par.\n",
    "- Divide el número del paso 2 entre el número de iteraciones(1000)."
   ]
  },
  {
   "cell_type": "code",
   "execution_count": 5,
   "metadata": {},
   "outputs": [
    {
     "name": "stdout",
     "output_type": "stream",
     "text": [
      "La probabilidad de sacar un número par o mayor que siete es: 65.20%\n"
     ]
    }
   ],
   "source": [
    "#Ejercicio 1\n",
    "dice_1= [1,2,3,4,5,6]\n",
    "dice_2= [1,2,3,4,5,6]\n",
    "table = 0\n",
    "iterations = 1000\n",
    "for i in range(iterations):\n",
    "    result_1 = random.choice(dice_1)\n",
    "    result_2 = random.choice(dice_2)\n",
    "    result = result_1 + result_2\n",
    "    if result > 7 or result % 2==0:      \n",
    "        table = table + 1\n",
    "print(f\"La probabilidad de sacar un número par o mayor que siete es: {(table / iterations) * 100:.2f}%\")\n"
   ]
  },
  {
   "cell_type": "markdown",
   "metadata": {},
   "source": [
    "## Ejercicio 2\n",
    "\n",
    "Una caja contiene 10 bolas blancas, 20 bolas rojas y 30 bolas verdes. Si tomamos 5 bolas de la caja reemplazándolas (tomando una bola, anotando el color y luego regresandola a la caja). Queremos saber la probabilidad de:\n",
    "\n",
    "1. Tomar 3 blancas y 2 rojas.\n",
    "2. Toas todas del mismo color.\n",
    "\n",
    "Ejecuta el experimento 1000 veces y calcula las probabilidades que mencionadas."
   ]
  },
  {
   "cell_type": "code",
   "execution_count": 6,
   "metadata": {},
   "outputs": [
    {
     "name": "stdout",
     "output_type": "stream",
     "text": [
      "La probabilidad de sacar 3 blancas y 2 rojas es de:  0.70%\n"
     ]
    }
   ],
   "source": [
    "#Ejercicio 2 probabilidad de sacar 3 blancas y 2 rojas\n",
    "box= [\"B\",\"B\",\"B\",\"B\",\"B\",\"B\",\"B\",\"B\",\"B\",\"B\",\"R\",\"R\",\"R\",\"R\",\"R\",\"R\",\"R\",\"R\",\"R\",\"R\",\"R\",\"R\",\"R\",\"R\",\"R\",\"R\",\"R\",\"R\",\"R\",\"R\",\"V\",\"V\",\"V\",\"V\",\"V\",\"V\",\"V\",\"V\",\"V\",\"V\",\"V\",\"V\",\"V\",\"V\",\"V\",\"V\",\"V\",\"V\",\"V\",\"V\",\"V\",\"V\",\"V\",\"V\",\"V\",\"V\",\"V\",\"V\",\"V\",\"V\"]\n",
    "table = 0\n",
    "result = []\n",
    "iterations = 1000\n",
    "for i in range(iterations):\n",
    "    pick = random.choice(box)\n",
    "    result.append(pick)\n",
    "    pick = random.choice(box)\n",
    "    result.append(pick)\n",
    "    pick = random.choice(box)\n",
    "    result.append(pick)\n",
    "    pick = random.choice(box)\n",
    "    result.append(pick)\n",
    "    pick = random.choice(box)\n",
    "    result.append(pick)\n",
    "    \n",
    "    if result.count(\"B\")==3 and result.count(\"R\")==2:      \n",
    "        table = table + 1\n",
    "    result = []\n",
    "print(f\"La probabilidad de sacar 3 blancas y 2 rojas es de:  {(table / iterations) * 100:.2f}%\")\n"
   ]
  },
  {
   "cell_type": "code",
   "execution_count": 7,
   "metadata": {},
   "outputs": [
    {
     "name": "stdout",
     "output_type": "stream",
     "text": [
      "La probabilidad de sacar 5 bolas del mismo color es de:  3.40%\n"
     ]
    }
   ],
   "source": [
    "#Ejercicio 2 probabilidad de sacar todas del mismo color\n",
    "table = 0\n",
    "result = []\n",
    "iterations = 1000\n",
    "for i in range(iterations):\n",
    "    pick = random.choice(box)\n",
    "    result.append(pick)\n",
    "    pick = random.choice(box)\n",
    "    result.append(pick)\n",
    "    pick = random.choice(box)\n",
    "    result.append(pick)\n",
    "    pick = random.choice(box)\n",
    "    result.append(pick)\n",
    "    pick = random.choice(box)\n",
    "    result.append(pick)\n",
    "    \n",
    "    if result.count(\"B\")==5 or result.count(\"R\")==5 or result.count(\"V\")==5 :      \n",
    "        table = table + 1\n",
    "    result = []\n",
    "print(f\"La probabilidad de sacar 5 bolas del mismo color es de:  {(table / iterations) * 100:.2f}%\")"
   ]
  }
 ],
 "metadata": {
  "kernelspec": {
   "display_name": ".venv",
   "language": "python",
   "name": "python3"
  },
  "language_info": {
   "codemirror_mode": {
    "name": "ipython",
    "version": 3
   },
   "file_extension": ".py",
   "mimetype": "text/x-python",
   "name": "python",
   "nbconvert_exporter": "python",
   "pygments_lexer": "ipython3",
   "version": "3.12.1"
  }
 },
 "nbformat": 4,
 "nbformat_minor": 2
}
